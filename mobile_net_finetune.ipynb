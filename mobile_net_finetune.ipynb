{
 "cells": [
  {
   "cell_type": "code",
   "execution_count": 1,
   "metadata": {},
   "outputs": [],
   "source": [
    "%load_ext autoreload\n",
    "%autoreload 2"
   ]
  },
  {
   "cell_type": "code",
   "execution_count": 2,
   "metadata": {},
   "outputs": [],
   "source": [
    "import matplotlib.pyplot as plt\n",
    "%matplotlib inline"
   ]
  },
  {
   "cell_type": "code",
   "execution_count": 3,
   "metadata": {},
   "outputs": [],
   "source": [
    "from tqdm import tqdm\n",
    "import cv2\n",
    "import os\n",
    "from tensorflow.keras.preprocessing import image\n",
    "import numpy as np\n",
    "import pandas as pd\n",
    "from tensorflow.keras.utils import to_categorical\n",
    "from sklearn.utils import shuffle as sk_shuffle\n",
    "from sklearn.model_selection import train_test_split\n",
    "from tensorflow.keras.applications.mobilenet_v2 import preprocess_input\n",
    "from tensorflow.keras.preprocessing.image import ImageDataGenerator\n"
   ]
  },
  {
   "cell_type": "code",
   "execution_count": 4,
   "metadata": {},
   "outputs": [
    {
     "name": "stderr",
     "output_type": "stream",
     "text": [
      "Using TensorFlow backend.\n"
     ]
    }
   ],
   "source": [
    "from src.data import get_data\n",
    "from src.data import get_image_value"
   ]
  },
  {
   "cell_type": "code",
   "execution_count": 5,
   "metadata": {},
   "outputs": [
    {
     "name": "stdout",
     "output_type": "stream",
     "text": [
      "TRAIN Value Counts\n",
      "0    31\n",
      "1    21\n",
      "dtype: int64\n"
     ]
    }
   ],
   "source": [
    "dim = (224,224)\n",
    "model_type = 'Mobilenet'\n",
    "bw = False\n",
    "\n",
    "train_paths, train_labels = get_data('train')\n",
    "train_images = np.array([get_image_value(i, dim, bw, model_type) for i in train_paths])\n",
    "train_dict = dict(images = train_images, labels = train_labels)"
   ]
  },
  {
   "cell_type": "code",
   "execution_count": 13,
   "metadata": {},
   "outputs": [
    {
     "name": "stdout",
     "output_type": "stream",
     "text": [
      "TEST Value Counts\n",
      "0    8\n",
      "1    6\n",
      "dtype: int64\n"
     ]
    }
   ],
   "source": [
    "test_paths, test_labels = get_data('test')\n",
    "test_images = np.array([get_image_value(i, dim, bw, model_type) for i in test_paths])\n",
    "test_dict = dict(images = test_images, labels = test_labels)"
   ]
  },
  {
   "cell_type": "code",
   "execution_count": 14,
   "metadata": {},
   "outputs": [
    {
     "data": {
      "text/plain": [
       "(52, 224, 224, 3)"
      ]
     },
     "execution_count": 14,
     "metadata": {},
     "output_type": "execute_result"
    }
   ],
   "source": [
    "train_images.shape"
   ]
  },
  {
   "cell_type": "code",
   "execution_count": 15,
   "metadata": {},
   "outputs": [],
   "source": [
    "x_train = train_images\n",
    "y_train = train_labels\n",
    "x_test = test_images\n",
    "y_test = test_labels"
   ]
  },
  {
   "cell_type": "code",
   "execution_count": 18,
   "metadata": {},
   "outputs": [],
   "source": [
    "from src.model import MobileNet"
   ]
  },
  {
   "cell_type": "code",
   "execution_count": 24,
   "metadata": {},
   "outputs": [
    {
     "name": "stdout",
     "output_type": "stream",
     "text": [
      "(224, 224, 3)\n",
      "WARNING:tensorflow:`input_shape` is undefined or non-square, or `rows` is not in [96, 128, 160, 192, 224]. Weights for input shape (224, 224) will be loaded as the default.\n"
     ]
    }
   ],
   "source": [
    "model = MobileNet(input_shape = train_images.shape[1:])"
   ]
  },
  {
   "cell_type": "code",
   "execution_count": 25,
   "metadata": {},
   "outputs": [],
   "source": [
    "augmentation =ImageDataGenerator(rotation_range = 20, width_shift_range = .2, height_shift_range = .2, \n",
    "                                                       horizontal_flip = True, shear_range = .15, \n",
    "                                 fill_mode = 'nearest', zoom_range = .15)"
   ]
  },
  {
   "cell_type": "code",
   "execution_count": 26,
   "metadata": {},
   "outputs": [],
   "source": [
    "augmentation.fit(x_train)"
   ]
  },
  {
   "cell_type": "code",
   "execution_count": 27,
   "metadata": {},
   "outputs": [
    {
     "name": "stdout",
     "output_type": "stream",
     "text": [
      "Epoch 1/1000\n",
      "1/1 [==============================] - 4s 4s/step - loss: 0.9500 - accuracy: 0.5000 - val_loss: 0.6273 - val_accuracy: 0.7143\n",
      "\n",
      "Epoch 00001: val_loss improved from inf to 0.62732, saving model to ./data/models/mobilnet/mobilenet.h5\n",
      "Epoch 2/1000\n",
      "1/1 [==============================] - 1s 726ms/step - loss: 0.7386 - accuracy: 0.5385 - val_loss: 0.5684 - val_accuracy: 0.7857\n",
      "\n",
      "Epoch 00002: val_loss improved from 0.62732 to 0.56840, saving model to ./data/models/mobilnet/mobilenet.h5\n",
      "Epoch 3/1000\n",
      "1/1 [==============================] - 1s 706ms/step - loss: 0.6920 - accuracy: 0.6538 - val_loss: 0.5403 - val_accuracy: 0.8571\n",
      "\n",
      "Epoch 00003: val_loss improved from 0.56840 to 0.54026, saving model to ./data/models/mobilnet/mobilenet.h5\n",
      "Epoch 4/1000\n",
      "1/1 [==============================] - 1s 709ms/step - loss: 0.6267 - accuracy: 0.6731 - val_loss: 0.5236 - val_accuracy: 0.8571\n",
      "\n",
      "Epoch 00004: val_loss improved from 0.54026 to 0.52359, saving model to ./data/models/mobilnet/mobilenet.h5\n",
      "Epoch 5/1000\n",
      "1/1 [==============================] - 1s 710ms/step - loss: 0.6095 - accuracy: 0.7115 - val_loss: 0.5089 - val_accuracy: 0.8571\n",
      "\n",
      "Epoch 00005: val_loss improved from 0.52359 to 0.50890, saving model to ./data/models/mobilnet/mobilenet.h5\n",
      "Epoch 6/1000\n",
      "1/1 [==============================] - 1s 702ms/step - loss: 0.4885 - accuracy: 0.7692 - val_loss: 0.4937 - val_accuracy: 0.8571\n",
      "\n",
      "Epoch 00006: val_loss improved from 0.50890 to 0.49370, saving model to ./data/models/mobilnet/mobilenet.h5\n",
      "Epoch 7/1000\n",
      "1/1 [==============================] - 1s 681ms/step - loss: 0.4355 - accuracy: 0.8077 - val_loss: 0.4783 - val_accuracy: 0.8571\n",
      "\n",
      "Epoch 00007: val_loss improved from 0.49370 to 0.47835, saving model to ./data/models/mobilnet/mobilenet.h5\n",
      "Epoch 8/1000\n",
      "1/1 [==============================] - 1s 691ms/step - loss: 0.4340 - accuracy: 0.8269 - val_loss: 0.4609 - val_accuracy: 0.8571\n",
      "\n",
      "Epoch 00008: val_loss improved from 0.47835 to 0.46090, saving model to ./data/models/mobilnet/mobilenet.h5\n",
      "Epoch 9/1000\n",
      "1/1 [==============================] - 1s 689ms/step - loss: 0.3306 - accuracy: 0.9423 - val_loss: 0.4460 - val_accuracy: 0.8571\n",
      "\n",
      "Epoch 00009: val_loss improved from 0.46090 to 0.44603, saving model to ./data/models/mobilnet/mobilenet.h5\n",
      "Epoch 10/1000\n",
      "1/1 [==============================] - 1s 697ms/step - loss: 0.3550 - accuracy: 0.9038 - val_loss: 0.4336 - val_accuracy: 0.8571\n",
      "\n",
      "Epoch 00010: val_loss improved from 0.44603 to 0.43359, saving model to ./data/models/mobilnet/mobilenet.h5\n",
      "Epoch 11/1000\n",
      "1/1 [==============================] - 1s 687ms/step - loss: 0.3107 - accuracy: 0.9038 - val_loss: 0.4210 - val_accuracy: 0.8571\n",
      "\n",
      "Epoch 00011: val_loss improved from 0.43359 to 0.42101, saving model to ./data/models/mobilnet/mobilenet.h5\n",
      "Epoch 12/1000\n",
      "1/1 [==============================] - 1s 690ms/step - loss: 0.3349 - accuracy: 0.8846 - val_loss: 0.4073 - val_accuracy: 0.8571\n",
      "\n",
      "Epoch 00012: val_loss improved from 0.42101 to 0.40730, saving model to ./data/models/mobilnet/mobilenet.h5\n",
      "Epoch 13/1000\n",
      "1/1 [==============================] - 1s 692ms/step - loss: 0.3114 - accuracy: 0.9423 - val_loss: 0.3953 - val_accuracy: 0.8571\n",
      "\n",
      "Epoch 00013: val_loss improved from 0.40730 to 0.39531, saving model to ./data/models/mobilnet/mobilenet.h5\n",
      "Epoch 14/1000\n",
      "1/1 [==============================] - 1s 688ms/step - loss: 0.2491 - accuracy: 0.9615 - val_loss: 0.3838 - val_accuracy: 0.8571\n",
      "\n",
      "Epoch 00014: val_loss improved from 0.39531 to 0.38375, saving model to ./data/models/mobilnet/mobilenet.h5\n",
      "Epoch 15/1000\n",
      "1/1 [==============================] - 1s 691ms/step - loss: 0.2894 - accuracy: 0.9231 - val_loss: 0.3711 - val_accuracy: 0.8571\n",
      "\n",
      "Epoch 00015: val_loss improved from 0.38375 to 0.37109, saving model to ./data/models/mobilnet/mobilenet.h5\n",
      "Epoch 16/1000\n",
      "1/1 [==============================] - 1s 696ms/step - loss: 0.2417 - accuracy: 0.9808 - val_loss: 0.3592 - val_accuracy: 0.8571\n",
      "\n",
      "Epoch 00016: val_loss improved from 0.37109 to 0.35924, saving model to ./data/models/mobilnet/mobilenet.h5\n",
      "Epoch 17/1000\n",
      "1/1 [==============================] - 1s 692ms/step - loss: 0.2419 - accuracy: 0.9231 - val_loss: 0.3496 - val_accuracy: 0.8571\n",
      "\n",
      "Epoch 00017: val_loss improved from 0.35924 to 0.34964, saving model to ./data/models/mobilnet/mobilenet.h5\n",
      "Epoch 18/1000\n",
      "1/1 [==============================] - 1s 697ms/step - loss: 0.2060 - accuracy: 0.9615 - val_loss: 0.3427 - val_accuracy: 0.8571\n",
      "\n",
      "Epoch 00018: val_loss improved from 0.34964 to 0.34266, saving model to ./data/models/mobilnet/mobilenet.h5\n",
      "Epoch 19/1000\n",
      "1/1 [==============================] - 1s 686ms/step - loss: 0.2095 - accuracy: 0.9038 - val_loss: 0.3400 - val_accuracy: 0.8571\n",
      "\n",
      "Epoch 00019: val_loss improved from 0.34266 to 0.33998, saving model to ./data/models/mobilnet/mobilenet.h5\n",
      "Epoch 20/1000\n",
      "1/1 [==============================] - 1s 683ms/step - loss: 0.1844 - accuracy: 0.9615 - val_loss: 0.3386 - val_accuracy: 0.8571\n",
      "\n",
      "Epoch 00020: val_loss improved from 0.33998 to 0.33857, saving model to ./data/models/mobilnet/mobilenet.h5\n",
      "Epoch 21/1000\n",
      "1/1 [==============================] - 1s 698ms/step - loss: 0.2608 - accuracy: 0.9231 - val_loss: 0.3361 - val_accuracy: 0.8571\n",
      "\n",
      "Epoch 00021: val_loss improved from 0.33857 to 0.33608, saving model to ./data/models/mobilnet/mobilenet.h5\n",
      "Epoch 22/1000\n",
      "1/1 [==============================] - 1s 688ms/step - loss: 0.2060 - accuracy: 0.9423 - val_loss: 0.3302 - val_accuracy: 0.8571\n",
      "\n",
      "Epoch 00022: val_loss improved from 0.33608 to 0.33020, saving model to ./data/models/mobilnet/mobilenet.h5\n",
      "Epoch 23/1000\n",
      "1/1 [==============================] - 1s 683ms/step - loss: 0.2051 - accuracy: 0.9231 - val_loss: 0.3234 - val_accuracy: 0.8571\n",
      "\n",
      "Epoch 00023: val_loss improved from 0.33020 to 0.32336, saving model to ./data/models/mobilnet/mobilenet.h5\n",
      "Epoch 24/1000\n",
      "1/1 [==============================] - 1s 686ms/step - loss: 0.1863 - accuracy: 0.9231 - val_loss: 0.3158 - val_accuracy: 0.8571\n",
      "\n",
      "Epoch 00024: val_loss improved from 0.32336 to 0.31575, saving model to ./data/models/mobilnet/mobilenet.h5\n",
      "Epoch 25/1000\n",
      "1/1 [==============================] - 1s 690ms/step - loss: 0.1790 - accuracy: 0.9423 - val_loss: 0.3081 - val_accuracy: 0.8571\n",
      "\n",
      "Epoch 00025: val_loss improved from 0.31575 to 0.30808, saving model to ./data/models/mobilnet/mobilenet.h5\n",
      "Epoch 26/1000\n",
      "1/1 [==============================] - 1s 680ms/step - loss: 0.1499 - accuracy: 0.9615 - val_loss: 0.3009 - val_accuracy: 0.8571\n",
      "\n",
      "Epoch 00026: val_loss improved from 0.30808 to 0.30090, saving model to ./data/models/mobilnet/mobilenet.h5\n",
      "Epoch 27/1000\n",
      "1/1 [==============================] - 1s 684ms/step - loss: 0.1776 - accuracy: 0.9423 - val_loss: 0.2948 - val_accuracy: 0.8571\n",
      "\n",
      "Epoch 00027: val_loss improved from 0.30090 to 0.29481, saving model to ./data/models/mobilnet/mobilenet.h5\n",
      "Epoch 28/1000\n",
      "1/1 [==============================] - 1s 689ms/step - loss: 0.1246 - accuracy: 0.9808 - val_loss: 0.2893 - val_accuracy: 0.8571\n",
      "\n",
      "Epoch 00028: val_loss improved from 0.29481 to 0.28925, saving model to ./data/models/mobilnet/mobilenet.h5\n",
      "Epoch 29/1000\n",
      "1/1 [==============================] - 1s 694ms/step - loss: 0.1491 - accuracy: 0.9615 - val_loss: 0.2838 - val_accuracy: 0.8571\n",
      "\n",
      "Epoch 00029: val_loss improved from 0.28925 to 0.28376, saving model to ./data/models/mobilnet/mobilenet.h5\n",
      "Epoch 30/1000\n",
      "1/1 [==============================] - 1s 679ms/step - loss: 0.1511 - accuracy: 0.9423 - val_loss: 0.2798 - val_accuracy: 0.8571\n",
      "\n",
      "Epoch 00030: val_loss improved from 0.28376 to 0.27984, saving model to ./data/models/mobilnet/mobilenet.h5\n",
      "Epoch 31/1000\n",
      "1/1 [==============================] - 1s 681ms/step - loss: 0.1697 - accuracy: 0.9423 - val_loss: 0.2776 - val_accuracy: 0.8571\n",
      "\n",
      "Epoch 00031: val_loss improved from 0.27984 to 0.27757, saving model to ./data/models/mobilnet/mobilenet.h5\n",
      "Epoch 32/1000\n",
      "1/1 [==============================] - 1s 693ms/step - loss: 0.1352 - accuracy: 0.9423 - val_loss: 0.2765 - val_accuracy: 0.8571\n",
      "\n",
      "Epoch 00032: val_loss improved from 0.27757 to 0.27654, saving model to ./data/models/mobilnet/mobilenet.h5\n",
      "Epoch 33/1000\n",
      "1/1 [==============================] - 1s 696ms/step - loss: 0.1344 - accuracy: 0.9808 - val_loss: 0.2766 - val_accuracy: 0.8571\n",
      "\n",
      "Epoch 00033: val_loss did not improve from 0.27654\n",
      "Epoch 34/1000\n",
      "1/1 [==============================] - 1s 700ms/step - loss: 0.1141 - accuracy: 0.9808 - val_loss: 0.2766 - val_accuracy: 0.8571\n",
      "\n",
      "Epoch 00034: val_loss did not improve from 0.27654\n",
      "Epoch 35/1000\n",
      "1/1 [==============================] - 1s 692ms/step - loss: 0.1058 - accuracy: 0.9615 - val_loss: 0.2755 - val_accuracy: 0.8571\n",
      "\n",
      "Epoch 00035: val_loss improved from 0.27654 to 0.27547, saving model to ./data/models/mobilnet/mobilenet.h5\n",
      "Epoch 36/1000\n",
      "1/1 [==============================] - 1s 703ms/step - loss: 0.0999 - accuracy: 0.9808 - val_loss: 0.2745 - val_accuracy: 0.8571\n",
      "\n",
      "Epoch 00036: val_loss improved from 0.27547 to 0.27447, saving model to ./data/models/mobilnet/mobilenet.h5\n",
      "Epoch 37/1000\n",
      "1/1 [==============================] - 1s 691ms/step - loss: 0.1059 - accuracy: 0.9808 - val_loss: 0.2742 - val_accuracy: 0.8571\n",
      "\n",
      "Epoch 00037: val_loss improved from 0.27447 to 0.27422, saving model to ./data/models/mobilnet/mobilenet.h5\n",
      "Epoch 38/1000\n",
      "1/1 [==============================] - 1s 699ms/step - loss: 0.0947 - accuracy: 0.9808 - val_loss: 0.2747 - val_accuracy: 0.8571\n",
      "\n",
      "Epoch 00038: val_loss did not improve from 0.27422\n",
      "Epoch 39/1000\n",
      "1/1 [==============================] - 1s 687ms/step - loss: 0.1389 - accuracy: 0.9423 - val_loss: 0.2739 - val_accuracy: 0.8571\n",
      "\n",
      "Epoch 00039: val_loss improved from 0.27422 to 0.27390, saving model to ./data/models/mobilnet/mobilenet.h5\n",
      "Epoch 00039: early stopping\n"
     ]
    }
   ],
   "source": [
    "mobilenet_history = model.model.fit_generator(augmentation.flow(x_train, y_train, batch_size = model.batch_size),\n",
    "                                              epochs = model.epochs, \n",
    "                                              callbacks = [model.early_stopping, model.model_checkpoint, model.lr_plat],\n",
    "                                              validation_data = (x_test, y_test),\n",
    "                                              verbose= 1)\n",
    "                                              "
   ]
  },
  {
   "cell_type": "code",
   "execution_count": 23,
   "metadata": {},
   "outputs": [],
   "source": [
    "# val_accuracy: 0.7857"
   ]
  },
  {
   "cell_type": "code",
   "execution_count": null,
   "metadata": {},
   "outputs": [],
   "source": []
  },
  {
   "cell_type": "code",
   "execution_count": null,
   "metadata": {},
   "outputs": [],
   "source": []
  },
  {
   "cell_type": "code",
   "execution_count": 7,
   "metadata": {},
   "outputs": [],
   "source": [
    "from keras.preprocessing.image import ImageDataGenerator\n",
    "from keras.applications import MobileNetV2\n",
    "from keras.layers import AveragePooling2D, Dropout, Flatten, Dense, Input, GlobalAveragePooling2D, Conv2D, MaxPooling2D\n",
    "from keras import regularizers\n",
    "from keras.models import Model, Sequential\n",
    "from keras.optimizers import Adam\n",
    "from keras.applications.mobilenet_v2 import preprocess_input\n",
    "from sklearn.metrics import classification_report, confusion_matrix\n",
    "from keras.callbacks import ModelCheckpoint, EarlyStopping, ReduceLROnPlateau\n",
    "from keras.models import load_model"
   ]
  },
  {
   "cell_type": "code",
   "execution_count": 8,
   "metadata": {},
   "outputs": [],
   "source": [
    "def get_mobilenet(dim):\n",
    "    model = Sequential()\n",
    "    optimizer = Adam(lr = .0005)\n",
    "    baseModel = MobileNetV2(weights=\"imagenet\", include_top=False,\n",
    "        input_tensor=Input(shape=dim))\n",
    "    \n",
    "    model.add(baseModel)\n",
    "    model.add(AveragePooling2D(pool_size=(7, 7)))\n",
    "    model.add(Flatten(name=\"flatten\"))\n",
    "    model.add(Dense(256, activation=\"relu\"))\n",
    "    model.add(Dropout(0.6))\n",
    "    model.add(Dense(2, activation=\"sigmoid\", name = 'Output'))\n",
    "    \n",
    "    for layer in baseModel.layers:\n",
    "        layer.trainable = False\n",
    "        \n",
    "    model.compile(loss = 'binary_crossentropy', optimizer = optimizer, metrics = ['accuracy'])\n",
    "    return model\n",
    "\n"
   ]
  },
  {
   "cell_type": "code",
   "execution_count": 9,
   "metadata": {},
   "outputs": [],
   "source": [
    "early_stopping = EarlyStopping(monitor='val_loss', verbose = 1, patience=5, min_delta = .00075)\n",
    "model_checkpoint = ModelCheckpoint(f'ModelWeights/Mobilenet_Masks.h5', verbose = 1, save_best_only=True,\n",
    "                                  monitor = 'val_loss')\n",
    "lr_plat = ReduceLROnPlateau(patience = 5, mode = 'min')\n",
    "epochs = 2000\n",
    "batch_size = 64"
   ]
  },
  {
   "cell_type": "code",
   "execution_count": null,
   "metadata": {},
   "outputs": [],
   "source": []
  }
 ],
 "metadata": {
  "environment": {
   "name": "tf2-gpu.2-1.m61",
   "type": "gcloud",
   "uri": "gcr.io/deeplearning-platform-release/tf2-gpu.2-1:m61"
  },
  "kernelspec": {
   "display_name": "Python 3",
   "language": "python",
   "name": "python3"
  },
  "language_info": {
   "codemirror_mode": {
    "name": "ipython",
    "version": 3
   },
   "file_extension": ".py",
   "mimetype": "text/x-python",
   "name": "python",
   "nbconvert_exporter": "python",
   "pygments_lexer": "ipython3",
   "version": "3.7.9"
  }
 },
 "nbformat": 4,
 "nbformat_minor": 4
}
